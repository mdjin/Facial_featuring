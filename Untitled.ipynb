{
 "cells": [
  {
   "cell_type": "code",
   "execution_count": 1,
   "id": "088d0be1",
   "metadata": {},
   "outputs": [
    {
     "name": "stdout",
     "output_type": "stream",
     "text": [
      "hello world\n"
     ]
    }
   ],
   "source": [
    "print(\"hello world\")"
   ]
  },
  {
   "cell_type": "code",
   "execution_count": null,
   "id": "5d09f6cf",
   "metadata": {},
   "outputs": [],
   "source": [
    "import cv2\n",
    "import dlib\n",
    "\n",
    "# Load face detector and facial landmark predictor models\n",
    "detector = dlib.get_frontal_face_detector()\n",
    "predictor = dlib.shape_predictor(\"shape_predictor_68_face_landmarks.dat\")\n",
    "\n",
    "# Read video file\n",
    "video_file = \"path/to/your/video/file.mp4\"\n",
    "cap = cv2.VideoCapture(video_file)\n",
    "\n",
    "# Loop through video frames\n",
    "while cap.isOpened():\n",
    "    ret, frame = cap.read()\n",
    "    if ret:\n",
    "        # Convert frame to grayscale\n",
    "        gray = cv2.cvtColor(frame, cv2.COLOR_BGR2GRAY)\n",
    "        \n",
    "        # Detect faces in grayscale frame\n",
    "        faces = detector(gray, 0)\n",
    "        \n",
    "        # Loop through detected faces\n",
    "        for face in faces:\n",
    "            # Extract facial landmarks\n",
    "            landmarks = predictor(gray, face)\n",
    "            \n",
    "            # Draw facial landmarks on frame\n",
    "            for i in range(68):\n",
    "                x = landmarks.part(i).x\n",
    "                y = landmarks.part(i).y\n",
    "                cv2.circle(frame, (x, y), 2, (0, 0, 255), -1)\n",
    "        \n",
    "        # Display frame with facial landmarks\n",
    "        cv2.imshow('Facial Landmarks', frame)\n",
    "        \n",
    "        # Wait for 'q' key to exit\n",
    "        if cv2.waitKey(1) & 0xFF == ord('q'):\n",
    "            break\n",
    "    else:\n",
    "        break\n",
    "\n",
    "# Release resources\n",
    "cap.release()\n",
    "cv2.destroyAllWindows()\n"
   ]
  },
  {
   "cell_type": "code",
   "execution_count": null,
   "id": "256d308a",
   "metadata": {},
   "outputs": [],
   "source": []
  }
 ],
 "metadata": {
  "kernelspec": {
   "display_name": "Python 3 (ipykernel)",
   "language": "python",
   "name": "python3"
  },
  "language_info": {
   "codemirror_mode": {
    "name": "ipython",
    "version": 3
   },
   "file_extension": ".py",
   "mimetype": "text/x-python",
   "name": "python",
   "nbconvert_exporter": "python",
   "pygments_lexer": "ipython3",
   "version": "3.9.13"
  }
 },
 "nbformat": 4,
 "nbformat_minor": 5
}
